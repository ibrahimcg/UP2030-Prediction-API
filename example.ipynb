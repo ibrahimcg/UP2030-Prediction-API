{
 "cells": [
  {
   "cell_type": "markdown",
   "metadata": {},
   "source": [
    "## intialization"
   ]
  },
  {
   "cell_type": "code",
   "execution_count": 5,
   "metadata": {},
   "outputs": [],
   "source": [
    "from prediction_api import PredictionAPI\n",
    "\n",
    "#initialize the api client\n",
    "api_url = \"http://144.122.71.59/api/predict/up2030\"\n",
    "api_key = \"INSERT-YOUR-API-KEY-HERE\"\n",
    "api = PredictionAPI(api_url, api_key)"
   ]
  },
  {
   "cell_type": "markdown",
   "metadata": {},
   "source": [
    "## sample inference"
   ]
  },
  {
   "cell_type": "code",
   "execution_count": 6,
   "metadata": {},
   "outputs": [
    {
     "name": "stdout",
     "output_type": "stream",
     "text": [
      "Prediction result: {'qcooling': [['0_0_0_res', 232.26699829101562]]}\n"
     ]
    }
   ],
   "source": [
    "#target features could take \"heating\", \"iod\" and \"qcooling\"\n",
    "target_features = [\"qcooling\", \"iod\", \"heating\"]\n",
    "\n",
    "#target year could take values from 2020 to 2050\n",
    "target_year = 2030\n",
    "\n",
    "#details of these features are explained in README file\n",
    "single_data = {\n",
    "    \"UnitID\" : \"0_0_0_res\",\n",
    "    \"verticalPos\": 2,\n",
    "    \"formFactor\": 20.31,\n",
    "    \"uWall\": 2.568,\n",
    "    \"uWindow\": 0.378,\n",
    "    \"uGroundFloor\": 0.308,\n",
    "    \"uRoof\": 0.58,\n",
    "    \"WWR_N\": 5.01,\n",
    "    \"WWR_E\": 0,\n",
    "    \"WWR_S\": 0,\n",
    "    \"WWR_W\": 8.4,\n",
    "    \"SE_N\": 5.01,\n",
    "    \"SE_E\": 0,\n",
    "    \"SE_S\": 0,\n",
    "    \"SE_W\": 8.4,\n",
    "    \"PPL\": 7.382,\n",
    "    \"n_boiler\": 0.883,\n",
    "    \"COP_cooling\": 3.276,\n",
    "    \"Infiltration\": 0,\n",
    "    \"SHGC\": 0.000451,\n",
    "    \"LPD\": 4.962,\n",
    "    \"EPD\": 0.429,\n",
    "    \"T_heating\": 0.0183,\n",
    "    \"T_cooling\": 100,\n",
    "}\n",
    "\n",
    "try:\n",
    "    result = api.predict(target_features, target_year, single_data)\n",
    "    print(\"Prediction result:\", result)\n",
    "except Exception as e:\n",
    "    print(\"Prediction failed:\", str(e))"
   ]
  },
  {
   "cell_type": "code",
   "execution_count": 16,
   "metadata": {},
   "outputs": [
    {
     "name": "stdout",
     "output_type": "stream",
     "text": [
      "Prediction result: {'heating': [['0_0_0_res', 122.47799682617188], ['19_1_5_res', 121.04100036621094], ['14_1_1_res', 112.74800109863281]], 'iod': [['0_0_0_res', 11.623000144958496], ['19_1_5_res', 11.708000183105469], ['14_1_1_res', 12.479000091552734]]}\n"
     ]
    }
   ],
   "source": [
    "#sample inference with multiple data\n",
    "\n",
    "target_features = [\"iod\", \"heating\"]\n",
    "\n",
    "#target year could take values from 2020 to 2050\n",
    "target_year = 2040\n",
    "\n",
    "\n",
    "multiple_data = [\n",
    "    {\n",
    "        \"UnitID\" : \"0_0_0_res\",\n",
    "        \"verticalPos\": 2,\n",
    "        \"formFactor\": 20.31,\n",
    "        \"uWall\": 2.568,\n",
    "        \"uWindow\": 0.378,\n",
    "        \"uGroundFloor\": 0.308,\n",
    "        \"uRoof\": 0.58,\n",
    "        \"WWR_N\": 5.01,\n",
    "        \"WWR_E\": 0,\n",
    "        \"WWR_S\": 0,\n",
    "        \"WWR_W\": 8.4,\n",
    "        \"SE_N\": 5.01,\n",
    "        \"SE_E\": 0,\n",
    "        \"SE_S\": 0,\n",
    "        \"SE_W\": 8.4,\n",
    "        \"PPL\": 7.382,\n",
    "        \"n_boiler\": 0.883,\n",
    "        \"COP_cooling\": 3.276,\n",
    "        \"Infiltration\": 0,\n",
    "        \"SHGC\": 0.000451,\n",
    "        \"LPD\": 4.962,\n",
    "        \"EPD\": 0.429,\n",
    "        \"T_heating\": 0.0183,\n",
    "        \"T_cooling\": 100,\n",
    "    },\n",
    "    {\n",
    "    \"UnitID\" : \"19_1_5_res\",\n",
    "    \"verticalPos\": 2,\n",
    "    \"formFactor\": 20.31,\n",
    "    \"uWall\": 2.568,\n",
    "    \"uWindow\": 0.378,\n",
    "    \"uGroundFloor\": 0.308,\n",
    "    \"uRoof\": 0.58,\n",
    "    \"WWR_N\": 5.01,\n",
    "    \"WWR_E\": 0,\n",
    "    \"WWR_S\": 0,\n",
    "    \"WWR_W\": 8.4,\n",
    "    \"SE_N\": 5.01,\n",
    "    \"SE_E\": 15,\n",
    "    \"SE_S\": 9,\n",
    "    \"SE_W\": 15.4,\n",
    "    \"PPL\": 7.382,\n",
    "    \"n_boiler\": 0.883,\n",
    "    \"COP_cooling\": 3.276,\n",
    "    \"Infiltration\": 0,\n",
    "    \"SHGC\": 0.000451,\n",
    "    \"LPD\": 4.962,\n",
    "    \"EPD\": 0.429,\n",
    "    \"T_heating\": 0.0183,\n",
    "    \"T_cooling\": 100,\n",
    "    },  \n",
    "    {\n",
    "    \"UnitID\" : \"14_1_1_res\",\n",
    "    \"verticalPos\": 2,\n",
    "    \"formFactor\": 20.31,\n",
    "    \"uWall\": 2.568,\n",
    "    \"uWindow\": 0.378,\n",
    "    \"uGroundFloor\": 0.308,\n",
    "    \"uRoof\": 0.58,\n",
    "    \"WWR_N\": 5.01,\n",
    "    \"WWR_E\": 0,\n",
    "    \"WWR_S\": 0,\n",
    "    \"WWR_W\": 8.4,\n",
    "    \"SE_N\": 5.01,\n",
    "    \"SE_E\": 19,\n",
    "    \"SE_S\": 78,\n",
    "    \"SE_W\": 34,\n",
    "    \"PPL\": 7.382,\n",
    "    \"n_boiler\": 0.883,\n",
    "    \"COP_cooling\": 3.276,\n",
    "    \"Infiltration\": 0,\n",
    "    \"SHGC\": 0.000451,\n",
    "    \"LPD\": 4.962,\n",
    "    \"EPD\": 0.429,\n",
    "    \"T_heating\": 0.0183,\n",
    "    \"T_cooling\": 100,\n",
    "    }   \n",
    "]\n",
    "try:\n",
    "    result = api.predict(target_features, target_year, multiple_data)\n",
    "    print(\"Prediction result:\", result)\n",
    "except Exception as e:\n",
    "    print(\"Prediction failed:\", str(e))"
   ]
  },
  {
   "cell_type": "code",
   "execution_count": null,
   "metadata": {},
   "outputs": [],
   "source": []
  }
 ],
 "metadata": {
  "kernelspec": {
   "display_name": "Python 3",
   "language": "python",
   "name": "python3"
  },
  "language_info": {
   "codemirror_mode": {
    "name": "ipython",
    "version": 3
   },
   "file_extension": ".py",
   "mimetype": "text/x-python",
   "name": "python",
   "nbconvert_exporter": "python",
   "pygments_lexer": "ipython3",
   "version": "3.8.2"
  }
 },
 "nbformat": 4,
 "nbformat_minor": 2
}
